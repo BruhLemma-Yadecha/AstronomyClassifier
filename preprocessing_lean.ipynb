{
 "cells": [
  {
   "cell_type": "markdown",
   "id": "20e05f11-691a-40f0-a8e8-ec80339bb84f",
   "metadata": {},
   "source": [
    "# Preprocessing (Lean)\n",
    "This lean variant provides functions that can be used by sister notebooks, and has no visualisations to make running it faster."
   ]
  },
  {
   "cell_type": "code",
   "execution_count": 1,
   "id": "c3f1988c-ac2c-4ae2-aa68-fc371d82dff3",
   "metadata": {},
   "outputs": [],
   "source": [
    "'''\n",
    "Utilities\n",
    "'''\n",
    "\n",
    "SEED = 42\n",
    "TEST_SIZE = 0.2\n",
    "VAL_SIZE = 0.2\n",
    "Z_SCORE_THRESHOLD = 3"
   ]
  },
  {
   "cell_type": "code",
   "execution_count": 2,
   "id": "f8264652-9ed8-4ee4-803e-4e618dbadedf",
   "metadata": {},
   "outputs": [],
   "source": [
    "import pandas as pd\n",
    "\n",
    "stellar_df = pd.read_csv('star_classification.csv')"
   ]
  },
  {
   "cell_type": "code",
   "execution_count": 3,
   "id": "11d7b7f5-4050-4889-9bdd-c8115d88ab56",
   "metadata": {},
   "outputs": [],
   "source": [
    "'''\n",
    "Keeping desired features\n",
    "'''\n",
    "\n",
    "desired_features = [\"u\", \"g\", \"r\", \"i\", \"z\", \"redshift\"]\n",
    "stellar_df = stellar_df[desired_features + [\"class\"]]"
   ]
  },
  {
   "cell_type": "code",
   "execution_count": 4,
   "id": "cdb97a26-1ba3-4839-9741-f03cf8e782e4",
   "metadata": {},
   "outputs": [],
   "source": [
    "'''\n",
    "Outlier removal\n",
    "'''\n",
    "\n",
    "import numpy as np\n",
    "from scipy.stats import zscore\n",
    "\n",
    "z_scores = stellar_df[desired_features].apply(zscore)\n",
    "stellar_df = stellar_df[(np.abs(z_scores) < Z_SCORE_THRESHOLD).all(axis=1)]"
   ]
  },
  {
   "cell_type": "code",
   "execution_count": 5,
   "id": "adca9150-4c2b-4937-a2ff-a0399e77fa99",
   "metadata": {},
   "outputs": [],
   "source": [
    "'''\n",
    "Renaming Features for Readability\n",
    "'''\n",
    "new_names = {\n",
    "    \"u\": \"ultraviolet\",\n",
    "    \"g\": \"green\",\n",
    "    \"r\": \"red\",\n",
    "    \"i\": \"near_infrared\",\n",
    "    \"z\": \"infrared\",\n",
    "}\n",
    "stellar_df = stellar_df.rename(columns=new_names)"
   ]
  },
  {
   "cell_type": "code",
   "execution_count": 6,
   "id": "05aa9ef8-b1ec-4324-aaff-23af66d36583",
   "metadata": {},
   "outputs": [],
   "source": [
    "'''\n",
    "Preprocessing\n",
    "'''\n",
    "\n",
    "from sklearn.model_selection import train_test_split\n",
    "from sklearn.preprocessing import LabelEncoder, StandardScaler\n",
    "\n",
    "from dataclasses import dataclass\n",
    "\n",
    "CLASS_LABELS = {}\n",
    "\n",
    "def get_full_data():\n",
    "    X = stellar_df[['ultraviolet', 'green', 'red', 'near_infrared', 'infrared', 'redshift']].copy()\n",
    "    y = stellar_df[\"class\"].copy()\n",
    "\n",
    "    le = LabelEncoder()\n",
    "    y_labeled = le.fit_transform(y)\n",
    "\n",
    "    X_trn, X_tst, y_trn, y_tst = train_test_split(X, y_labeled, test_size=TEST_SIZE, random_state=SEED, stratify=y_labeled)\n",
    "\n",
    "    CLASS_LABELS = le.classes_\n",
    "\n",
    "    X_trn, X_val, y_trn, y_val = train_test_split(X_trn, y_trn, test_size=VAL_SIZE, random_state=SEED, stratify=y_trn)\n",
    "\n",
    "    scaler = StandardScaler()\n",
    "    scaler.fit(X_trn)\n",
    "    X_trn_scaled = scaler.transform(X_trn)\n",
    "    X_val_scaled = scaler.transform(X_val)\n",
    "    X_tst_scaled = scaler.transform(X_tst)\n",
    "\n",
    "    return (X_trn_scaled, y_trn), (X_val_scaled, y_val), (X_tst_scaled, y_tst)\n"
   ]
  },
  {
   "cell_type": "code",
   "execution_count": 7,
   "id": "0481d67e-e63f-408c-a849-73e9ba16d0e5",
   "metadata": {},
   "outputs": [],
   "source": [
    "'''\n",
    "Isolated retrieval step to not need to rerun it often.\n",
    "'''\n",
    "\n",
    "(X_trn, y_trn), (X_val, y_val), (X_tst, y_tst) = get_full_data()"
   ]
  }
 ],
 "metadata": {
  "kernelspec": {
   "display_name": "Python 3 (ipykernel)",
   "language": "python",
   "name": "python3"
  },
  "language_info": {
   "codemirror_mode": {
    "name": "ipython",
    "version": 3
   },
   "file_extension": ".py",
   "mimetype": "text/x-python",
   "name": "python",
   "nbconvert_exporter": "python",
   "pygments_lexer": "ipython3",
   "version": "3.11.11"
  }
 },
 "nbformat": 4,
 "nbformat_minor": 5
}
