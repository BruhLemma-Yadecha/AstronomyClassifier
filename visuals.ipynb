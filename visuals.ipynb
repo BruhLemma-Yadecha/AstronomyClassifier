{
 "cells": [
  {
   "cell_type": "code",
   "execution_count": null,
   "id": "6327eaf1-ac04-4f55-a858-3e7fc2a4dad0",
   "metadata": {},
   "outputs": [],
   "source": [
    "from IPython.display import display\n",
    "from numpy import argmax\n",
    "from sklearn.metrics import accuracy_score, confusion_matrix, ConfusionMatrixDisplay\n",
    "\n",
    "def generate_statistics(model_prediction_func, single_output=True):\n",
    "    y_pred_trn = model_prediction_func(X_trn)\n",
    "    y_pred_val = model_prediction_func(X_val)\n",
    "    y_pred_tst = model_prediction_func(X_tst)\n",
    "\n",
    "    if not single_output:\n",
    "        y_pred_trn = argmax(y_pred_trn, axis=1)\n",
    "        y_pred_val = argmax(y_pred_val, axis=1)\n",
    "        y_pred_tst = argmax(y_pred_tst, axis=1)\n",
    "\n",
    "    trn_acc = accuracy_score(y_trn, y_pred_trn)\n",
    "    val_acc = accuracy_score(y_val, y_pred_val)\n",
    "    tst_acc = accuracy_score(y_tst, y_pred_tst)\n",
    "\n",
    "    accuracy_data = {'Dataset': ['Training', 'Validation', 'Test'],\n",
    "            'Accuracy': [trn_acc, val_acc, tst_acc]}\n",
    "    accuracy_df = pd.DataFrame(accuracy_data)\n",
    "\n",
    "    display(accuracy_df)\n",
    "\n",
    "    ConfusionMatrixDisplay.from_predictions(y_tst, y_pred_tst,\n",
    "        display_labels=['GALAXY', 'QSO', 'STAR']\n",
    "    )"
   ]
  }
 ],
 "metadata": {
  "kernelspec": {
   "display_name": "Python 3 (ipykernel)",
   "language": "python",
   "name": "python3"
  },
  "language_info": {
   "codemirror_mode": {
    "name": "ipython",
    "version": 3
   },
   "file_extension": ".py",
   "mimetype": "text/x-python",
   "name": "python",
   "nbconvert_exporter": "python",
   "pygments_lexer": "ipython3",
   "version": "3.11.11"
  }
 },
 "nbformat": 4,
 "nbformat_minor": 5
}
