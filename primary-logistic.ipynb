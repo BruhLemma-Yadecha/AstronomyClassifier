{
 "cells": [
  {
   "cell_type": "markdown",
   "id": "0e732ebc-acf0-40f2-9d95-fabf7582391a",
   "metadata": {},
   "source": [
    "# Primary - Logistic Regression"
   ]
  },
  {
   "cell_type": "code",
   "execution_count": 1,
   "id": "86af9b8f-1a3c-4eb0-937d-3e0c1a30dfbc",
   "metadata": {},
   "outputs": [],
   "source": [
    "%run preprocessing_lean.ipynb\n",
    "%run visuals.ipynb"
   ]
  },
  {
   "cell_type": "code",
   "execution_count": 2,
   "id": "e3d95703-ad0d-44c7-b99f-39846b30472e",
   "metadata": {},
   "outputs": [],
   "source": [
    "LR_MAX_ITERATIONS=100\n",
    "N_SPLITS = 5\n",
    "NN_BATCH_SIZE = 64\n",
    "NN_EPOCHS = 100\n",
    "SEED = 42"
   ]
  },
  {
   "cell_type": "code",
   "execution_count": 3,
   "id": "739b0619-3c74-48cf-9d58-292484894d80",
   "metadata": {},
   "outputs": [
    {
     "name": "stdout",
     "output_type": "stream",
     "text": [
      "{'C': np.float64(10000.0), 'penalty': 'l2', 'solver': 'lbfgs'}\n",
      "0.9609865112937985\n"
     ]
    }
   ],
   "source": [
    "'''\n",
    "Model: Logistic Regression\n",
    "Training Step\n",
    "\n",
    "This section is commented out to make running this notebook faster.\n",
    "'''\n",
    "\n",
    "# import warnings\n",
    "\n",
    "# from sklearn.exceptions import ConvergenceWarning\n",
    "# from sklearn.model_selection import GridSearchCV\n",
    "# from sklearn.linear_model import LogisticRegression\n",
    "\n",
    "# warnings.filterwarnings(\"ignore\", category=ConvergenceWarning)\n",
    "\n",
    "# alt_model = LogisticRegression(max_iter=LR_MAX_ITERATIONS)\n",
    "\n",
    "# '''\n",
    "# Basic hyperparameter search setup feasible\n",
    "# due to quick fitting times.\n",
    "# '''\n",
    "# C_values = np.logspace(-4, 4, num=9)\n",
    "# grid = [\n",
    "#     {\n",
    "#         'C': C_values,\n",
    "#         'solver':  ['lbfgs'],\n",
    "#         'penalty': ['l2'],\n",
    "#     },\n",
    "#     {\n",
    "#         'C': C_values,\n",
    "#         'solver':  ['newton-cg'],\n",
    "#         'penalty': ['l2'],\n",
    "#     },\n",
    "#     {\n",
    "#         'C': C_values,\n",
    "#         'solver':  ['sag'],\n",
    "#         'penalty': ['l2'],\n",
    "#     },\n",
    "#     {\n",
    "#         'C': C_values,\n",
    "#         'solver':  ['saga'],\n",
    "#         'penalty': ['l1', 'l2'],\n",
    "#     },\n",
    "# ]\n",
    "\n",
    "# grid_search = GridSearchCV(\n",
    "#     estimator=alt_model,\n",
    "#     param_grid=grid,\n",
    "#     cv=N_SPLITS,\n",
    "#     scoring='accuracy',\n",
    "#     verbose=0\n",
    "# )\n",
    "\n",
    "# grid_search.fit(X_trn, y_trn)\n",
    "\n",
    "# best_params = grid_search.best_params_\n",
    "# best_score = grid_search.best_score_\n",
    "\n",
    "# print(best_params)\n",
    "# print(best_score)"
   ]
  },
  {
   "cell_type": "code",
   "execution_count": 4,
   "id": "2b7339b1-7f00-4f25-898f-a24bcdbc4825",
   "metadata": {},
   "outputs": [
    {
     "data": {
      "text/html": [
       "<div>\n",
       "<style scoped>\n",
       "    .dataframe tbody tr th:only-of-type {\n",
       "        vertical-align: middle;\n",
       "    }\n",
       "\n",
       "    .dataframe tbody tr th {\n",
       "        vertical-align: top;\n",
       "    }\n",
       "\n",
       "    .dataframe thead th {\n",
       "        text-align: right;\n",
       "    }\n",
       "</style>\n",
       "<table border=\"1\" class=\"dataframe\">\n",
       "  <thead>\n",
       "    <tr style=\"text-align: right;\">\n",
       "      <th></th>\n",
       "      <th>Dataset</th>\n",
       "      <th>Accuracy</th>\n",
       "    </tr>\n",
       "  </thead>\n",
       "  <tbody>\n",
       "    <tr>\n",
       "      <th>0</th>\n",
       "      <td>Training</td>\n",
       "      <td>0.960859</td>\n",
       "    </tr>\n",
       "    <tr>\n",
       "      <th>1</th>\n",
       "      <td>Validation</td>\n",
       "      <td>0.962840</td>\n",
       "    </tr>\n",
       "    <tr>\n",
       "      <th>2</th>\n",
       "      <td>Test</td>\n",
       "      <td>0.963069</td>\n",
       "    </tr>\n",
       "  </tbody>\n",
       "</table>\n",
       "</div>"
      ],
      "text/plain": [
       "      Dataset  Accuracy\n",
       "0    Training  0.960859\n",
       "1  Validation  0.962840\n",
       "2        Test  0.963069"
      ]
     },
     "metadata": {},
     "output_type": "display_data"
    },
    {
     "data": {
      "image/png": "[encoded data removed]",
      "text/plain": [
       "<Figure size 640x480 with 2 Axes>"
      ]
     },
     "metadata": {},
     "output_type": "display_data"
    }
   ],
   "source": [
    "'''\n",
    "Logistic Regression: Statistics Using Hyperparameters from Prior Section\n",
    "'''\n",
    "\n",
    "from sklearn.linear_model import LogisticRegression\n",
    "\n",
    "model = LogisticRegression(C=10_000, penalty='l2', solver='lbfgs')\n",
    "model.fit(X_trn, y_trn)\n",
    "generate_statistics(model.predict)"
   ]
  }
 ],
 "metadata": {
  "kernelspec": {
   "display_name": "Python 3 (ipykernel)",
   "language": "python",
   "name": "python3"
  },
  "language_info": {
   "codemirror_mode": {
    "name": "ipython",
    "version": 3
   },
   "file_extension": ".py",
   "mimetype": "text/x-python",
   "name": "python",
   "nbconvert_exporter": "python",
   "pygments_lexer": "ipython3",
   "version": "3.11.11"
  }
 },
 "nbformat": 4,
 "nbformat_minor": 5
}
